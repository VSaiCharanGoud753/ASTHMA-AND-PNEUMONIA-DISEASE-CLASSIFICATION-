{
 "cells": [
  {
   "cell_type": "code",
   "execution_count": 1,
   "id": "bf7c4f37",
   "metadata": {},
   "outputs": [],
   "source": [
    "#1)Create a 0-D NumPy array containing your age. Print the array and its type"
   ]
  },
  {
   "cell_type": "code",
   "execution_count": null,
   "id": "a8fa58eb",
   "metadata": {},
   "outputs": [],
   "source": [
    "import numpy as np # pyright: ignore[reportMissingImports]\n",
    "age = np.array(19)"
   ]
  },
  {
   "cell_type": "code",
   "execution_count": 3,
   "id": "db73430f",
   "metadata": {},
   "outputs": [
    {
     "name": "stdout",
     "output_type": "stream",
     "text": [
      "19\n"
     ]
    }
   ],
   "source": [
    "print(age)"
   ]
  },
  {
   "cell_type": "code",
   "execution_count": 4,
   "id": "d843930e",
   "metadata": {},
   "outputs": [
    {
     "name": "stdout",
     "output_type": "stream",
     "text": [
      "<class 'numpy.ndarray'>\n"
     ]
    }
   ],
   "source": [
    "print(type(age))"
   ]
  },
  {
   "cell_type": "code",
   "execution_count": 6,
   "id": "351b0c91",
   "metadata": {},
   "outputs": [],
   "source": [
    "#2)Create a 1-D array of all even numbers between 10 and 30. Use indexing to print the 4th element.\n"
   ]
  },
  {
   "cell_type": "code",
   "execution_count": 7,
   "id": "df9eb326",
   "metadata": {},
   "outputs": [
    {
     "name": "stdout",
     "output_type": "stream",
     "text": [
      "Even numbers:  [10 12 14 16 18 20 22 24 26 28]\n",
      "16\n"
     ]
    }
   ],
   "source": [
    "even_num = np.arange(10,30,2)\n",
    "print(\"Even numbers: \",even_num)\n",
    "print(even_num[3])"
   ]
  },
  {
   "cell_type": "code",
   "execution_count": 8,
   "id": "a84994f5",
   "metadata": {},
   "outputs": [],
   "source": [
    "#3)Reshape a 1-D array of 12 elements into a 3x4 array"
   ]
  },
  {
   "cell_type": "code",
   "execution_count": 9,
   "id": "c8bee0ef",
   "metadata": {},
   "outputs": [
    {
     "name": "stdout",
     "output_type": "stream",
     "text": [
      "[[ 1  2  3  4]\n",
      " [ 5  6  7  8]\n",
      " [ 9 10 11 12]]\n"
     ]
    }
   ],
   "source": [
    "arr_1d = np.arange(1,13)\n",
    "arr = arr_1d.reshape(3,4)\n",
    "print(arr)"
   ]
  },
  {
   "cell_type": "code",
   "execution_count": 10,
   "id": "f7651d74",
   "metadata": {},
   "outputs": [],
   "source": [
    "#4)Create a 2-D array and print its shape and Size."
   ]
  },
  {
   "cell_type": "code",
   "execution_count": 11,
   "id": "c3603e62",
   "metadata": {},
   "outputs": [
    {
     "data": {
      "text/plain": [
       "array([[1, 2, 3, 4],\n",
       "       [9, 8, 7, 6]])"
      ]
     },
     "execution_count": 11,
     "metadata": {},
     "output_type": "execute_result"
    }
   ],
   "source": [
    "arr = np.array([[1,2,3,4],[9,8,7,6]])\n",
    "arr"
   ]
  },
  {
   "cell_type": "code",
   "execution_count": 12,
   "id": "94cab5bc",
   "metadata": {},
   "outputs": [
    {
     "data": {
      "text/plain": [
       "(2, 4)"
      ]
     },
     "execution_count": 12,
     "metadata": {},
     "output_type": "execute_result"
    }
   ],
   "source": [
    "arr.shape"
   ]
  },
  {
   "cell_type": "code",
   "execution_count": 13,
   "id": "2943c6b6",
   "metadata": {},
   "outputs": [
    {
     "data": {
      "text/plain": [
       "8"
      ]
     },
     "execution_count": 13,
     "metadata": {},
     "output_type": "execute_result"
    }
   ],
   "source": [
    "arr.size"
   ]
  },
  {
   "cell_type": "code",
   "execution_count": 14,
   "id": "14aa71ec",
   "metadata": {},
   "outputs": [],
   "source": [
    "#5)Iterate over a 3-D array and print each element."
   ]
  },
  {
   "cell_type": "code",
   "execution_count": 22,
   "id": "c2ca99ce",
   "metadata": {},
   "outputs": [
    {
     "data": {
      "text/plain": [
       "array([[[ 1,  2,  3],\n",
       "        [ 4,  5,  6]],\n",
       "\n",
       "       [[ 7,  8,  9],\n",
       "        [10, 11, 12]]])"
      ]
     },
     "execution_count": 22,
     "metadata": {},
     "output_type": "execute_result"
    }
   ],
   "source": [
    "arr_3D = np.array([\n",
    "    [[1,2,3],[4,5,6]],\n",
    "    [[7,8,9],[10,11,12]]])\n",
    "arr_3D"
   ]
  },
  {
   "cell_type": "code",
   "execution_count": 23,
   "id": "20ec5986",
   "metadata": {},
   "outputs": [
    {
     "name": "stdout",
     "output_type": "stream",
     "text": [
      "1\n",
      "2\n",
      "3\n",
      "4\n",
      "5\n",
      "6\n",
      "7\n",
      "8\n",
      "9\n",
      "10\n",
      "11\n",
      "12\n"
     ]
    }
   ],
   "source": [
    "for block in arr_3D:\n",
    "    for row in block:\n",
    "        for element in row:\n",
    "            print(element)"
   ]
  },
  {
   "cell_type": "code",
   "execution_count": 24,
   "id": "fc955e00",
   "metadata": {},
   "outputs": [],
   "source": [
    "#6)Create a 2-D array and 3-D array and join it."
   ]
  },
  {
   "cell_type": "code",
   "execution_count": 28,
   "id": "dc6136ca",
   "metadata": {},
   "outputs": [
    {
     "name": "stdout",
     "output_type": "stream",
     "text": [
      "[[1 2 3]\n",
      " [4 5 6]]\n",
      "[[[ 7  8  9]\n",
      "  [10 11 12]]]\n"
     ]
    }
   ],
   "source": [
    "arr_2d = np.array([[1,2,3],[4,5,6]])\n",
    "arr_3d = np.array([[[7,8,9],[10,11,12]]])\n",
    "print(arr_2d)\n",
    "print(arr_3d)"
   ]
  },
  {
   "cell_type": "code",
   "execution_count": 32,
   "id": "778403ac",
   "metadata": {},
   "outputs": [
    {
     "data": {
      "text/plain": [
       "array([[[1, 2, 3],\n",
       "        [4, 5, 6]]])"
      ]
     },
     "execution_count": 32,
     "metadata": {},
     "output_type": "execute_result"
    }
   ],
   "source": [
    "arr = np.expand_dims(arr_2d,axis=0)\n",
    "arr"
   ]
  },
  {
   "cell_type": "code",
   "execution_count": 35,
   "id": "bdb46eae",
   "metadata": {},
   "outputs": [
    {
     "data": {
      "text/plain": [
       "array([[[ 1,  2,  3],\n",
       "        [ 4,  5,  6]],\n",
       "\n",
       "       [[ 7,  8,  9],\n",
       "        [10, 11, 12]]])"
      ]
     },
     "execution_count": 35,
     "metadata": {},
     "output_type": "execute_result"
    }
   ],
   "source": [
    "join = np.concatenate((arr,arr_3d))\n",
    "join"
   ]
  },
  {
   "cell_type": "code",
   "execution_count": 36,
   "id": "f8237b7c",
   "metadata": {},
   "outputs": [
    {
     "data": {
      "text/plain": [
       "(2, 2, 3)"
      ]
     },
     "execution_count": 36,
     "metadata": {},
     "output_type": "execute_result"
    }
   ],
   "source": [
    "join.shape"
   ]
  },
  {
   "cell_type": "code",
   "execution_count": 37,
   "id": "375726f3",
   "metadata": {},
   "outputs": [],
   "source": [
    "#7)Convert an integer array to float using. astype () and dtype()."
   ]
  },
  {
   "cell_type": "code",
   "execution_count": 39,
   "id": "e480af5e",
   "metadata": {},
   "outputs": [
    {
     "name": "stdout",
     "output_type": "stream",
     "text": [
      "Int:  [1 2 3 4 5]\n",
      "Float:  [1. 2. 3. 4. 5.]\n"
     ]
    }
   ],
   "source": [
    "int_arr = np.array([1,2,3,4,5])\n",
    "float_arr = int_arr.astype(float)\n",
    "print(\"Int: \",int_arr)\n",
    "print(\"Float: \",float_arr)"
   ]
  },
  {
   "cell_type": "code",
   "execution_count": 42,
   "id": "1d52caa1",
   "metadata": {},
   "outputs": [
    {
     "data": {
      "text/plain": [
       "array([12., 21., 22., 43.])"
      ]
     },
     "execution_count": 42,
     "metadata": {},
     "output_type": "execute_result"
    }
   ],
   "source": [
    "float_arr1 = np.array([12,21,22,43],dtype=float)\n",
    "float_arr1"
   ]
  },
  {
   "cell_type": "code",
   "execution_count": null,
   "id": "bd91b38a",
   "metadata": {},
   "outputs": [],
   "source": [
    "#8)Create a 1-D array of 10 numbers. Print the 3rd and last elements using positive and negative indexing."
   ]
  },
  {
   "cell_type": "code",
   "execution_count": 44,
   "id": "b512b2d8",
   "metadata": {},
   "outputs": [
    {
     "name": "stdout",
     "output_type": "stream",
     "text": [
      "22\n",
      "56\n",
      "22\n",
      "56\n"
     ]
    }
   ],
   "source": [
    "arr = np.array([1,2,22,42,6,7,54,78,89,56])\n",
    "print(arr[2])\n",
    "print(arr[9])\n",
    "print(arr[-8])\n",
    "print(arr[-1])"
   ]
  },
  {
   "cell_type": "code",
   "execution_count": 45,
   "id": "d02b7488",
   "metadata": {},
   "outputs": [],
   "source": [
    "#9)Create an array with float values. Print the data type. And convert it into integer"
   ]
  },
  {
   "cell_type": "code",
   "execution_count": 47,
   "id": "fb8ba186",
   "metadata": {},
   "outputs": [
    {
     "name": "stdout",
     "output_type": "stream",
     "text": [
      "[1.6 2.4 5.4 7.6 8.5]\n",
      "float64\n"
     ]
    }
   ],
   "source": [
    "arr = np.array([1.6,2.4,5.4,7.6,8.5])\n",
    "print(arr)\n",
    "print(arr.dtype)"
   ]
  },
  {
   "cell_type": "code",
   "execution_count": 52,
   "id": "012d7cd2",
   "metadata": {},
   "outputs": [
    {
     "name": "stdout",
     "output_type": "stream",
     "text": [
      "[1 2 5 7 8]\n",
      "int32\n"
     ]
    }
   ],
   "source": [
    "arr1 = arr.astype(int)\n",
    "print(arr1)\n",
    "print(arr1.dtype)"
   ]
  },
  {
   "cell_type": "code",
   "execution_count": 53,
   "id": "d6e9ebe3",
   "metadata": {},
   "outputs": [],
   "source": [
    "#10)Create a 5-D array using ndmin. Print its shape and number of dimensions."
   ]
  },
  {
   "cell_type": "code",
   "execution_count": 54,
   "id": "443bd5cb",
   "metadata": {},
   "outputs": [
    {
     "name": "stdout",
     "output_type": "stream",
     "text": [
      "[[[[[1 2]]]]]\n",
      "(1, 1, 1, 1, 2)\n",
      "5\n"
     ]
    }
   ],
   "source": [
    "arr_5D = np.array([1,2],ndmin=5)\n",
    "print(arr_5D)\n",
    "print(arr_5D.shape)\n",
    "print(arr_5D.ndim)"
   ]
  },
  {
   "cell_type": "code",
   "execution_count": null,
   "id": "213143ba",
   "metadata": {},
   "outputs": [],
   "source": []
  }
 ],
 "metadata": {
  "kernelspec": {
   "display_name": "Python 3 (ipykernel)",
   "language": "python",
   "name": "python3"
  },
  "language_info": {
   "codemirror_mode": {
    "name": "ipython",
    "version": 3
   },
   "file_extension": ".py",
   "mimetype": "text/x-python",
   "name": "python",
   "nbconvert_exporter": "python",
   "pygments_lexer": "ipython3",
   "version": "3.7.6"
  }
 },
 "nbformat": 4,
 "nbformat_minor": 5
}
